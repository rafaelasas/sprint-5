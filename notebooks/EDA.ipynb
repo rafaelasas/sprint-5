{
 "cells": [
  {
   "cell_type": "markdown",
   "id": "0c74fc96",
   "metadata": {},
   "source": [
    "#Histograma (quilometragem dos veículos)"
   ]
  },
  {
   "cell_type": "code",
   "execution_count": null,
   "id": "6b2ad445",
   "metadata": {
    "vscode": {
     "languageId": "plaintext"
    }
   },
   "outputs": [],
   "source": [
    "import pandas as pd\n",
    "import plotly.express as px\n",
    "\n",
    "car_data = pd.read_csv(\"vehicles.csv\")  # lendo os dados\n",
    "fig = px.histogram(car_data, x=\"odometer\", nbins=50, title=\"Distribuição da Quilometragem\")\n",
    "fig.show()"
   ]
  },
  {
   "cell_type": "markdown",
   "id": "d1cf20c1",
   "metadata": {},
   "source": [
    "#Gráfico de dispersão (quilometragem x preço)"
   ]
  },
  {
   "cell_type": "code",
   "execution_count": null,
   "id": "ab5b4f9b",
   "metadata": {
    "vscode": {
     "languageId": "plaintext"
    }
   },
   "outputs": [],
   "source": [
    "fig = px.scatter(car_data, x=\"odometer\", y=\"price\",\n",
    "                 title=\"Preço vs Quilometragem\",\n",
    "                 opacity=0.5)\n",
    "fig.show()"
   ]
  },
  {
   "cell_type": "markdown",
   "id": "6ac73729",
   "metadata": {},
   "source": [
    "#Boxplot (preço por condição do carro)"
   ]
  },
  {
   "cell_type": "code",
   "execution_count": null,
   "id": "483ea0e0",
   "metadata": {
    "vscode": {
     "languageId": "plaintext"
    }
   },
   "outputs": [],
   "source": [
    "fig = px.box(car_data, x=\"condition\", y=\"price\",\n",
    "             title=\"Preço por Condição do Veículo\")\n",
    "fig.show()"
   ]
  },
  {
   "cell_type": "markdown",
   "id": "57aa6736",
   "metadata": {},
   "source": [
    "#Gráfico de barras (quantidade por tipo de veículo)"
   ]
  },
  {
   "cell_type": "code",
   "execution_count": null,
   "id": "3876b150",
   "metadata": {
    "vscode": {
     "languageId": "plaintext"
    }
   },
   "outputs": [],
   "source": [
    "fig = px.bar(car_data[\"type\"].value_counts().reset_index(),\n",
    "             x=\"index\", y=\"type\",\n",
    "             labels={\"index\":\"Tipo de veículo\", \"type\":\"Quantidade\"},\n",
    "             title=\"Distribuição por Tipo de Veículo\")\n",
    "fig.show()"
   ]
  },
  {
   "cell_type": "markdown",
   "id": "4c1b77ee",
   "metadata": {},
   "source": [
    "Gráfico de linhas (média de preço por ano do modelo)"
   ]
  },
  {
   "cell_type": "code",
   "execution_count": null,
   "id": "3c1b407c",
   "metadata": {
    "vscode": {
     "languageId": "plaintext"
    }
   },
   "outputs": [],
   "source": [
    "avg_price_year = car_data.groupby(\"model_year\")[\"price\"].mean().reset_index()\n",
    "\n",
    "fig = px.line(avg_price_year, x=\"model_year\", y=\"price\",\n",
    "              title=\"Preço Médio por Ano do Modelo\")\n",
    "fig.show()"
   ]
  }
 ],
 "metadata": {
  "language_info": {
   "name": "python"
  }
 },
 "nbformat": 4,
 "nbformat_minor": 5
}
